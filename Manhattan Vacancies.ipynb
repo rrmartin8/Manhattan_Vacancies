{
 "cells": [
  {
   "cell_type": "code",
   "execution_count": 228,
   "id": "2964f4a6",
   "metadata": {},
   "outputs": [],
   "source": [
    "# Read in data\n",
    "store_data = pd.read_csv('manhattandata.csv')\n",
    "data = store_df.iloc[:, np.r_[0:9, 11:19, 23:35].copy()\n",
    "transit_df = pd.read_csv('transit_data.csv')"
   ]
  },
  {
   "cell_type": "code",
   "execution_count": null,
   "id": "4455e510",
   "metadata": {},
   "outputs": [],
   "source": [
    "# Imports\n",
    "\n",
    "import pandas as pd\n",
    "import numpy as np\n",
    "import seaborn as sns\n",
    "import matplotlib.pyplot as plt\n",
    "import geopy.distance\n",
    "import folium\n",
    "from folium import plugins\n",
    "from folium.plugins import HeatMap\n",
    "from folium.features import DivIcon\n",
    "from sklearn.model_selection import train_test_split\n",
    "from sklearn.metrics import classification_report, confusion_matrix, accuracy_score, roc_auc_score, roc_curve,  f1_score\n",
    "from sklearn.linear_model import LogisticRegression\n",
    "from sklearn.ensemble import RandomForestClassifier\n"
   ]
  },
  {
   "cell_type": "code",
   "execution_count": null,
   "id": "c22f5547",
   "metadata": {},
   "outputs": [],
   "source": [
    "distance_list = []\n",
    "for i,row in data.iterrows():\n",
    "    a = row.latitude, row.longitude\n",
    "    distances = []\n",
    "    for j,row2 in transit_df.iterrows():\n",
    "        b = row2.station_lat, row2.station_long\n",
    "        distances.append(geopy.distance.geodesic(a, b).m)\n",
    "        min_distance = min(distances)\n",
    "        distance_list.append(min_distance)\n",
    "\n",
    "data['minsubdist'] = distance_list\n",
    "data.head()"
   ]
  },
  {
   "cell_type": "code",
   "execution_count": null,
   "id": "14da6715",
   "metadata": {},
   "outputs": [],
   "source": [
    "# Duplicate rows in subway data to reflect the number of transit lines at a station (not including commuter rail):\n",
    "transit_lines = transit_df.reindex(transit_df.index.repeat(transit_df.num_lines))"
   ]
  },
  {
   "cell_type": "code",
   "execution_count": null,
   "id": "9a4994a8",
   "metadata": {},
   "outputs": [],
   "source": [
    "distance8 = []\n",
    "for i,row in data.iterrows():\n",
    "    a = row.latitude, row.longitude\n",
    "    distances = []\n",
    "    for j,row2 in transit_lines.iterrows():\n",
    "        b = row2.station_lat, row2.station_long\n",
    "        distances.append(geopy.distance.geodesic(a, b).m)\n",
    "    distances.sort()\n",
    "    eightclosest = distances[0]+distances[1]+distances[2]+distances[3]+distances[4]+distances[5]+distances[6]+distances[7]\n",
    "    distance8.append(eightclosest)\n",
    "    \n",
    "data['sub8closest'] = distance8"
   ]
  },
  {
   "cell_type": "code",
   "execution_count": null,
   "id": "daeeb174",
   "metadata": {},
   "outputs": [],
   "source": [
    "data['logfloors'] = np.log(data['numfloors'])\n",
    "data['loglot'] = np.log(data['lotarea'])\n",
    "data['logcomarea'] = np.log(data['comarea'])\n",
    "data['logassesstot'] = np.log(data['assesstot'])\n",
    "data['logresunits'] = np.log(data['unitsres']+1)"
   ]
  },
  {
   "cell_type": "code",
   "execution_count": null,
   "id": "5f4fc052",
   "metadata": {},
   "outputs": [],
   "source": [
    "sns.histplot(data=fulldata, x=\"logfloors\", bins=30, color=\"purple\").set(title='Number of Floors in Building (log-transformed)')"
   ]
  },
  {
   "cell_type": "code",
   "execution_count": null,
   "id": "677c4268",
   "metadata": {},
   "outputs": [],
   "source": [
    "sns.histplot(data=fulldata, x=\"loglot\", bins=50, color=\"red\").set(title='Building Lot Size (log-transformed)')"
   ]
  },
  {
   "cell_type": "code",
   "execution_count": null,
   "id": "4763cea6",
   "metadata": {},
   "outputs": [],
   "source": [
    "sns.histplot(data=fulldata, x=\"logassesstot\", bins=50, color=\"green\").set(title='Total Assessed Value of Building & Land (log-transformed)')"
   ]
  },
  {
   "cell_type": "code",
   "execution_count": null,
   "id": "4c9cb5a0",
   "metadata": {},
   "outputs": [],
   "source": [
    "sns.histplot(data=fulldata, x=\"logcomarea\", bins=50, color=\"darkblue\").set(title='Commercial Square Footage in Building (log-transformed)')"
   ]
  },
  {
   "cell_type": "code",
   "execution_count": null,
   "id": "646d9d24",
   "metadata": {},
   "outputs": [],
   "source": [
    "sns.histplot(data=fulldata, x=\"logresunits\", bins=50).set(title='Residential Units in Building (log-transformed)')"
   ]
  },
  {
   "cell_type": "code",
   "execution_count": null,
   "id": "24bd566c",
   "metadata": {},
   "outputs": [],
   "source": [
    "data['built'] = 2019 - data['yearbuilt']\n",
    "data['altered'] = data['yearalter1'].apply(lambda x: 0 if x == 0 else 1)\n",
    "data['vacant01'] = data['vacant'].apply(lambda x: 0 if x == 'NO' else 1)"
   ]
  },
  {
   "cell_type": "code",
   "execution_count": null,
   "id": "f1e3cd7d",
   "metadata": {},
   "outputs": [],
   "source": [
    "fig, ax = plt.subplots()\n",
    "\n",
    "def label_function(val):\n",
    "    return f'{val / 100 * len(data):.0f}\\n{val:.0f}%'\n",
    "\n",
    "data.groupby('vacant').size().plot(kind='pie', autopct=label_function, startangle=370,\n",
    "                                   wedgeprops = {\"edgecolor\" : \"black\", 'linewidth': 0.6, 'antialiased': True}, \n",
    "                                   textprops={'fontsize': 16}, colors=['cornflowerblue', 'orangered'], figsize=(6,6))\n",
    "ax.set_ylabel('')\n",
    "ax.set_xlabel('Storefronts in Manhattan:\\nVacant or Not', size=18)\n",
    "plt.show"
   ]
  },
  {
   "cell_type": "code",
   "execution_count": null,
   "id": "00da3e5a",
   "metadata": {},
   "outputs": [],
   "source": [
    "vacancies = pd.DataFrame()\n",
    "vacancies = data[data['vacant01'] == 1].copy()\n",
    "\n",
    "manhattan = vacancies[['latitude', 'longitude']]\n",
    "manhattan_map = folium.Map(location=[manhattan.latitude.mean()+.03, manhattan.longitude.mean()+.02], zoom_start=11,\n",
    "                      control_scale=True)\n",
    "vacancies['latitude'] = vacancies['latitude'].astype(float)\n",
    "vacancies['longitude'] = vacancies['longitude'].astype(float)\n",
    "heat_df = vacancies[['latitude', 'longitude']]\n",
    "heat_data = [[row['latitude'],row['longitude']] for index, row in heat_df.iterrows()]\n",
    "HeatMap(heat_data, min_opacity=.4, radius=7, blur=6).add_to(manhattan_map)\n",
    "manhattan_map"
   ]
  },
  {
   "cell_type": "code",
   "execution_count": null,
   "id": "db71a624",
   "metadata": {},
   "outputs": [],
   "source": [
    "# Generate map:\n",
    "manhattan = vacancies[['latitude', 'longitude']]\n",
    "NTA_map2 = folium.Map(location=[manhattan.latitude.mean()+.03, manhattan.longitude.mean()+.02], zoom_start=11,\n",
    "                      control_scale=True)\n",
    "folium.GeoJson('ManhattanNoPark.geojson', tooltip=folium.features.GeoJsonTooltip(\n",
    "                        fields=['ntaname'], alias=['Neighborhood'], localize=True, sticky=False, labels=True,\n",
    "                        style=\"\"\"\n",
    "                            background-color: #F0EFEF;\n",
    "                            border: 2px solid black;\n",
    "                            border-radius: 3px;\n",
    "                            box-shadow: 3px;\n",
    "                        \"\"\", max_width=4000,),).add_to(NTA_map2)\n",
    "\n",
    "# Label neighborhoods in Lower Manhattan:\n",
    "circle_lat1 = 40.707779484290015\n",
    "circle_lon1 = -74.01169125742088\n",
    "folium.map.Marker(\n",
    "    [circle_lat1+.001, circle_lon1-.00055],\n",
    "    icon=DivIcon(icon_size=(250,72), icon_anchor=(0,0), html='<div style=\"font-size: 15pt\">1</div>',)\n",
    "    ).add_to(NTA_map2)\n",
    "\n",
    "circle_lat2 = 40.72150647250581\n",
    "circle_lon2 = -74.00654137332417\n",
    "folium.map.Marker(\n",
    "    [circle_lat2+.001, circle_lon2-.00055],\n",
    "    icon=DivIcon(icon_size=(250,72), icon_anchor=(0,0), html='<div style=\"font-size: 15pt\">2</div>',)\n",
    "    ).add_to(NTA_map2)\n",
    "\n",
    "circle_lat3 = 40.71496860850175\n",
    "circle_lon3 = -73.99538338315665\n",
    "folium.map.Marker(\n",
    "    [circle_lat3+.001, circle_lon3-.00055],\n",
    "    icon=DivIcon(icon_size=(250,72), icon_anchor=(0,0), html='<div style=\"font-size: 15pt\">3</div>',)\n",
    "    ).add_to(NTA_map2)\n",
    "\n",
    "circle_lat4 = 40.71639983755882\n",
    "circle_lon4 = -73.98491203868387\n",
    "folium.map.Marker(\n",
    "    [circle_lat4+.001, circle_lon4-.00055],\n",
    "    icon=DivIcon(icon_size=(250,72), icon_anchor=(0,0), html='<div style=\"font-size: 15pt\">4</div>',)\n",
    "    ).add_to(NTA_map2)\n",
    "\n",
    "folium.Circle([circle_lat1, circle_lon1], 100, fill=True, fill_opacity=100, fill_color='#eaebed').add_to(NTA_map2)\n",
    "folium.Circle([circle_lat2, circle_lon2], 100, fill=True, fill_opacity=100, fill_color='#eaebed').add_to(NTA_map2)\n",
    "folium.Circle([circle_lat3, circle_lon3], 100, fill=True, fill_opacity=100, fill_color='#eaebed').add_to(NTA_map2)\n",
    "folium.Circle([circle_lat4, circle_lon4], 100, fill=True, fill_opacity=100, fill_color='#eaebed').add_to(NTA_map2)\n",
    "\n",
    "# Overlay heat map:\n",
    "vacancies['latitude'] = vacancies['latitude'].astype(float)\n",
    "vacancies['longitude'] = vacancies['longitude'].astype(float)\n",
    "heat_df = vacancies[['latitude', 'longitude']]\n",
    "heat_data = [[row['latitude'],row['longitude']] for index, row in heat_df.iterrows()]\n",
    "HeatMap(heat_data, min_opacity=0.9, radius=7, blur=5).add_to(NTA_map2)\n",
    "NTA_map2"
   ]
  },
  {
   "cell_type": "code",
   "execution_count": 132,
   "id": "65b398f1",
   "metadata": {},
   "outputs": [],
   "source": [
    "dfg = pd.DataFrame(data.groupby(['neighborhood'])['vacant01'].mean()*100)\n",
    "dfgsort = dfg.sort_values(by='vacant01', ascending=False)\n",
    "dfgsort.plot(kind='barh', title='Vacancy Percentages by Neighborhood', xlabel='Neighborhood', figsize=(9,8), legend=None)"
   ]
  },
  {
   "cell_type": "code",
   "execution_count": 134,
   "id": "689c179a",
   "metadata": {},
   "outputs": [],
   "source": [
    "x = data.loc[:,['latitude','loglot', 'logfloors', 'logcomarea','logassesstot',\n",
    "             'logresunits', 'built', 'Pop_1E', 'edbachpct', 'edgradpct', 'edlthsaggpct', 'dfhspct',\n",
    "             'fbpct', 'RntVacRtE', 'mv10ltrpct', 'mv00t09pct', 'mv90t99pct', 'mvbf89pct', 'MdGRE',\n",
    "              'minsubdist', 'altered', 'sub8closest']]"
   ]
  },
  {
   "cell_type": "code",
   "execution_count": 135,
   "id": "c1876752",
   "metadata": {},
   "outputs": [],
   "source": [
    "y = data['vacant01']"
   ]
  },
  {
   "cell_type": "code",
   "execution_count": 136,
   "id": "a3a8c429",
   "metadata": {},
   "outputs": [],
   "source": [
    "X_train, X_test, y_train, y_test = train_test_split(x,y,test_size=0.30, random_state=8888)"
   ]
  },
  {
   "cell_type": "code",
   "execution_count": 137,
   "id": "217cddf8",
   "metadata": {},
   "outputs": [],
   "source": [
    "xnumeric_train = X_train.loc[:,['latitude','loglot','logfloors', 'logcomarea','logassesstot',\n",
    "             'logresunits', 'built', 'Pop_1E', 'edbachpct', 'edgradpct', 'edlthsaggpct', 'dfhspct',\n",
    "             'fbpct', 'RntVacRtE', 'mv10ltrpct', 'mv00t09pct', 'mv90t99pct', 'mvbf89pct', 'MdGRE',\n",
    "              'minsubdist', 'sub8closest']]"
   ]
  },
  {
   "cell_type": "code",
   "execution_count": 138,
   "id": "99d394c2",
   "metadata": {},
   "outputs": [],
   "source": [
    "X_train_norm = pd.DataFrame()\n",
    "X_train_norm = xnumeric_train.apply(lambda x : x/(2*(x.std())))\n",
    "X_train_norm['altered'] = X_train['altered']\n",
    "X_train_norm"
   ]
  },
  {
   "cell_type": "code",
   "execution_count": 139,
   "id": "5ab5f13c",
   "metadata": {},
   "outputs": [],
   "source": [
    "xnumeric_test = X_test.loc[:,['latitude','loglot','logfloors', 'logcomarea','logassesstot',\n",
    "             'logresunits', 'built', 'Pop_1E', 'edbachpct', 'edgradpct', 'edlthsaggpct', 'dfhspct',\n",
    "             'fbpct', 'RntVacRtE', 'mv10ltrpct', 'mv00t09pct', 'mv90t99pct', 'mvbf89pct', 'MdGRE',\n",
    "              'minsubdist', 'sub8closest']]"
   ]
  },
  {
   "cell_type": "code",
   "execution_count": 140,
   "id": "881558e2",
   "metadata": {},
   "outputs": [],
   "source": [
    "X_test_norm = pd.DataFrame()\n",
    "X_test_norm = xnumeric_test.apply(lambda x : x/(2*(x.std())))\n",
    "X_test_norm['altered'] = X_test['altered']\n",
    "X_test_norm"
   ]
  },
  {
   "cell_type": "code",
   "execution_count": 241,
   "id": "65bcd96a",
   "metadata": {},
   "outputs": [],
   "source": [
    "# Train logistic regression model:\n",
    "\n",
    "lr = LogisticRegression()\n",
    "lr = LogisticRegression(max_iter=10000).fit(X_train_norm, y_train)\n",
    "print(lr.coef_, lr.intercept_)"
   ]
  },
  {
   "cell_type": "code",
   "execution_count": null,
   "id": "2d536d87",
   "metadata": {},
   "outputs": [],
   "source": [
    "y_pred = lr.predict(X_test_norm)\n",
    "print(classification_report(y_test, y_pred))\n",
    "print('Accuracy score: ', round(accuracy_score(y_test, y_pred), 2))\n",
    "print('F1 Score: ', round(f1_score(y_test, y_pred), 2))"
   ]
  },
  {
   "cell_type": "code",
   "execution_count": 244,
   "id": "228d0daa",
   "metadata": {},
   "outputs": [],
   "source": [
    "def conf_matrix(y,pred):\n",
    "    ((tn, fp), (fn, tp)) = confusion_matrix(y, pred)\n",
    "    ((tnr,fpr),(fnr,tpr))= confusion_matrix(y, pred, \n",
    "            normalize='true')\n",
    "    return pd.DataFrame([[f'TN = {tn} (TNR = {tnr:1.2%})', \n",
    "                                f'FP = {fp} (FPR = {fpr:1.2%})'], \n",
    "                         [f'FN = {fn} (FNR = {fnr:1.2%})', \n",
    "                                f'TP = {tp} (TPR = {tpr:1.2%})']],\n",
    "            index=['True 0(Full)', 'True 1(Vacant)'], \n",
    "            columns=['Pred 0(Predicted Full)', \n",
    "                            'Pred 1(Predicted Vacant)'])"
   ]
  },
  {
   "cell_type": "code",
   "execution_count": null,
   "id": "dd90f1c5",
   "metadata": {},
   "outputs": [],
   "source": [
    "conf_matrix(y_test, y_pred)"
   ]
  },
  {
   "cell_type": "code",
   "execution_count": null,
   "id": "59ef7ac5",
   "metadata": {},
   "outputs": [],
   "source": [
    "predtst=lr.predict_proba(X_test_norm)[:,1]\n",
    "fpr, tpr, thresholds = roc_curve(y_test, predtst)\n",
    "dfplot=pd.DataFrame({'Threshold':thresholds, \n",
    "        'False Positive Rate':fpr, \n",
    "        'False Negative Rate': 1.-tpr})\n",
    "ax=dfplot.plot(x='Threshold', y=['False Positive Rate',\n",
    "        'False Negative Rate'], figsize=(10,6))\n",
    "ax.set_xbound(0,1); ax.set_ybound(0,1)"
   ]
  },
  {
   "cell_type": "code",
   "execution_count": null,
   "id": "6c8671af",
   "metadata": {},
   "outputs": [],
   "source": [
    "# Tune classification threshold:\n",
    "\n",
    "tuned_thresh = np.where(predtst >= 0.092, 1, 0)\n",
    "conf_matrix(y_test, tuned_thresh)"
   ]
  },
  {
   "cell_type": "code",
   "execution_count": null,
   "id": "3a972842",
   "metadata": {},
   "outputs": [],
   "source": [
    "# Print classification report:\n",
    "print(classification_report(y_test, tuned_thresh))\n",
    "print('Accuracy score: ', round(accuracy_score(y_test, tuned_thresh), 2))\n",
    "print('F1 Score: ', round(f1_score(y_test, tuned_thresh), 3))"
   ]
  },
  {
   "cell_type": "code",
   "execution_count": null,
   "id": "57b7891c",
   "metadata": {},
   "outputs": [],
   "source": [
    "# Generate confusion matrix:\n",
    "cm = confusion_matrix(y_test, tuned_thresh)\n",
    "plt.figure(figsize=(9,9))\n",
    "sns.set(font_scale=2)\n",
    "sns.heatmap(cm, annot=True, fmt=\".0f\", linewidths=.5, square = True, cmap = 'Blues_r');\n",
    "plt.ylabel('Actual label');\n",
    "plt.xlabel('Predicted label');\n",
    "plt.title('Confusion Matrix', size = 15);"
   ]
  },
  {
   "cell_type": "code",
   "execution_count": null,
   "id": "6303c586",
   "metadata": {},
   "outputs": [],
   "source": [
    "# Estimate random forest and iterate over various numbers of trees:\n",
    "\n",
    "RF = RandomForestClassifier(oob_score=True, \n",
    "                            random_state=42, \n",
    "                            warm_start=True,\n",
    "                            n_jobs=-1)\n",
    "\n",
    "oob_list = list()\n",
    "\n",
    "for n_trees in [15, 20, 30, 40, 50, 100, 150, 200, 300, 400, 500, 1000]:\n",
    "    print(n_trees)\n",
    "    RF.set_params(n_estimators=n_trees)\n",
    "    RF.fit(X_train_norm, y_train)\n",
    "    oob_error = 1 - RF.oob_score_\n",
    "    oob_list.append(pd.Series({'n_trees': n_trees, 'oob': oob_error}))\n",
    "\n",
    "rf_oob_df = pd.concat(oob_list, axis=1).T.set_index('n_trees')\n",
    "\n",
    "rf_oob_df"
   ]
  },
  {
   "cell_type": "code",
   "execution_count": null,
   "id": "939644b1",
   "metadata": {},
   "outputs": [],
   "source": [
    "%matplotlib inline\n",
    "\n",
    "sns.set_context('talk')\n",
    "sns.set_style('white')\n",
    "ax = rf_oob_df.plot(legend=False, marker='o', figsize=(14,7), linewidth=5)\n",
    "ax.set(ylabel='out-of-bag error');"
   ]
  },
  {
   "cell_type": "code",
   "execution_count": 187,
   "id": "f6b9ad7c",
   "metadata": {},
   "outputs": [],
   "source": [
    "# Random forest with 300 trees:\n",
    "RC = RandomForestClassifier(n_estimators=300, random_state=42)\n",
    "RC = RC.fit(X_train_norm, y_train)\n",
    "y_predict = RC.predict(X_test_norm)"
   ]
  },
  {
   "cell_type": "code",
   "execution_count": null,
   "id": "d165bb94",
   "metadata": {},
   "outputs": [],
   "source": [
    "print(classification_report(y_test, y_predict))\n",
    "print('Accuracy score: ', round(accuracy_score(y_test, y_predict), 2))\n",
    "print('F1 Score: ', round(f1_score(y_test, y_predict), 2))"
   ]
  },
  {
   "cell_type": "code",
   "execution_count": 208,
   "id": "1d7fffb5",
   "metadata": {},
   "outputs": [],
   "source": [
    "# Tune the threshold (examine changes in F1 score and other metrics above\n",
    "# with different thresholds)\n",
    "threshold = 0.277\n",
    "predicted_proba = RC.predict_proba(X_test_norm)\n",
    "predicted = (predicted_proba [:,1] >= threshold).astype('int')"
   ]
  },
  {
   "cell_type": "code",
   "execution_count": null,
   "id": "59d0ab77",
   "metadata": {},
   "outputs": [],
   "source": [
    "# Print classification report:\n",
    "print(classification_report(y_test, predicted))\n",
    "print('Accuracy score: ', round(accuracy_score(y_test, predicted), 2))\n",
    "print('F1 Score: ', round(f1_score(y_test, predicted), 4))"
   ]
  },
  {
   "cell_type": "code",
   "execution_count": null,
   "id": "8255faa6",
   "metadata": {},
   "outputs": [],
   "source": [
    "cm = confusion_matrix(y_test,predicted)\n",
    "plt.figure(figsize=(9,9))\n",
    "sns.set(font_scale=2)\n",
    "sns.heatmap(cm, annot=True, fmt=\".0f\", linewidths=.5, square = True, cmap = 'Blues_r');\n",
    "plt.ylabel('Actual label');\n",
    "plt.xlabel('Predicted label');\n",
    "plt.title('Confusion Matrix', size = 15);"
   ]
  },
  {
   "cell_type": "code",
   "execution_count": null,
   "id": "807f386b",
   "metadata": {},
   "outputs": [],
   "source": [
    "# Plot feature importances:\n",
    "\n",
    "importances = RC.feature_importances_\n",
    "implist = importances.tolist()\n",
    "bardata = pd.DataFrame()\n",
    "columns = ['Latitude', 'Lot Area', 'Number of Floors', 'Commercial Area of Building', 'Total Assessed Building & Land Value', \n",
    "           'Number of Residential Units', 'Age of Building', 'Neighborhood Population', 'Highest Degree: Bachelors', \n",
    "           'Highest Degree: Graduate', 'Highest Degree: Less Than Bachelors', '% Lived in Different House Last Year', \n",
    "           'Foreign-Born %', 'Rental Vacancy Rate', '% Moved To Home in 2010 or Later', '% Moved To Home 2000-2009', \n",
    "           '% Moved To Home 1990-1999', '% Moved To Home 1989 or Earlier', 'Median Gross Rent', 'Minimum Distance to Rail', \n",
    "           'Sum of Min 8 Distances to Rail', 'Building Ever Altered']\n",
    "\n",
    "bardata['cols'] = columns\n",
    "bardata['Importances'] = implist\n",
    "barsort = bardata.sort_values(by='Importances')\n",
    "plt.figure(figsize=(8,10))\n",
    "plt.title('Feature Importances from Random Forest Model', size=30)\n",
    "plt.barh(barsort.cols, barsort.Importances, color='limegreen')"
   ]
  },
  {
   "cell_type": "code",
   "execution_count": null,
   "id": "d60ac618",
   "metadata": {},
   "outputs": [],
   "source": [
    "# Examine correlations with key features:\n",
    "\n",
    "ycorr = data['vacant01']\n",
    "correlation = ycorr.corr(data['minsubdist'])\n",
    "correlation"
   ]
  },
  {
   "cell_type": "code",
   "execution_count": null,
   "id": "27ce152e",
   "metadata": {},
   "outputs": [],
   "source": [
    "ycorr = data['vacant01']\n",
    "correlation = ycorr.corr(data['sub8closest'])\n",
    "correlation"
   ]
  },
  {
   "cell_type": "code",
   "execution_count": null,
   "id": "ab3e0304",
   "metadata": {},
   "outputs": [],
   "source": [
    "ycorr = data['vacant01']\n",
    "correlation = ycorr.corr(data['logassesstot'])\n",
    "correlation"
   ]
  },
  {
   "cell_type": "code",
   "execution_count": null,
   "id": "bf642c2d",
   "metadata": {},
   "outputs": [],
   "source": [
    "ycorr = data['vacant01']\n",
    "correlation = ycorr.corr(data['latitude'])\n",
    "correlation"
   ]
  },
  {
   "cell_type": "code",
   "execution_count": null,
   "id": "2ec47517",
   "metadata": {},
   "outputs": [],
   "source": [
    "ycorr = data['vacant01']\n",
    "correlation = ycorr.corr(data['logcomarea'])\n",
    "correlation"
   ]
  },
  {
   "cell_type": "code",
   "execution_count": null,
   "id": "a1a460be",
   "metadata": {},
   "outputs": [],
   "source": [
    "ycorr = data['vacant01']\n",
    "correlation = ycorr.corr(data['loglot'])\n",
    "correlation"
   ]
  }
 ],
 "metadata": {
  "kernelspec": {
   "display_name": "Python 3",
   "language": "python",
   "name": "python3"
  },
  "language_info": {
   "codemirror_mode": {
    "name": "ipython",
    "version": 3
   },
   "file_extension": ".py",
   "mimetype": "text/x-python",
   "name": "python",
   "nbconvert_exporter": "python",
   "pygments_lexer": "ipython3",
   "version": "3.8.8"
  }
 },
 "nbformat": 4,
 "nbformat_minor": 5
}
